{
 "cells": [
  {
   "cell_type": "code",
   "execution_count": 1,
   "metadata": {},
   "outputs": [
    {
     "name": "stdout",
     "output_type": "stream",
     "text": [
      "555-131-6862\n",
      "555-213-0350\n",
      "555-332-1489\n",
      "555-232-0548\n",
      "555-233-5216\n",
      "555-111-0606\n",
      "555-312-1508\n",
      "555-321-6505\n",
      "555-231-3363\n",
      "555-332-0731\n",
      "555-232-2619\n",
      "555-332-5805\n",
      "555-111-6879\n",
      "555-211-4757\n",
      "555-121-2145\n",
      "555-123-1464\n",
      "555-331-3800\n",
      "555-231-8405\n",
      "555-221-7969\n",
      "555-123-9425\n",
      "555-132-7594\n",
      "555-112-4353\n",
      "555-113-8363\n",
      "555-212-9648\n",
      "555-321-7456\n",
      "555-311-0732\n",
      "555-321-9066\n",
      "555-332-4616\n",
      "555-131-1545\n",
      "555-331-8150\n",
      "555-232-7770\n",
      "555-322-4887\n",
      "555-231-8005\n",
      "555-113-9896\n",
      "555-332-8505\n",
      "555-213-3369\n",
      "555-231-1533\n",
      "555-211-6789\n",
      "555-322-3850\n",
      "555-231-0826\n",
      "555-221-3660\n",
      "555-132-2514\n",
      "555-211-3568\n",
      "555-122-0447\n",
      "555-223-9156\n",
      "555-312-7895\n",
      "555-123-0059\n",
      "555-321-0851\n",
      "555-132-6844\n",
      "555-111-6873\n"
     ]
    }
   ],
   "source": [
    "import random\n",
    "def random_number():\n",
    " a = list('555-xxx-xxxx')\n",
    " for i in range(n):  \n",
    "   for i in range(len(a)):\n",
    "    if i<7 and a[i] == 'x':\n",
    "      a[i] = str(random.randint(1,3))\n",
    "    elif i>7 and a[i] == 'x':\n",
    "      a[i] = str(random.randint(0,9))       \n",
    "   return \"\".join(a)\n",
    "     \n",
    "n = int(input(\"kac numara lazim\"))\n",
    "for i in range(0, n):\n",
    "    print(random_number())"
   ]
  },
  {
   "cell_type": "code",
   "execution_count": null,
   "metadata": {},
   "outputs": [],
   "source": []
  }
 ],
 "metadata": {
  "kernelspec": {
   "display_name": "Python 3",
   "language": "python",
   "name": "python3"
  },
  "language_info": {
   "codemirror_mode": {
    "name": "ipython",
    "version": 3
   },
   "file_extension": ".py",
   "mimetype": "text/x-python",
   "name": "python",
   "nbconvert_exporter": "python",
   "pygments_lexer": "ipython3",
   "version": "3.11.2"
  },
  "orig_nbformat": 4
 },
 "nbformat": 4,
 "nbformat_minor": 2
}
